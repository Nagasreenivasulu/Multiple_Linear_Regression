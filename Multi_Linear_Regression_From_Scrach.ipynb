{
 "cells": [
  {
   "cell_type": "code",
   "execution_count": 1,
   "metadata": {},
   "outputs": [],
   "source": [
    "import numpy as np\n",
    "import pandas as pd\n",
    "import matplotlib.pyplot as plt"
   ]
  },
  {
   "cell_type": "code",
   "execution_count": 2,
   "metadata": {},
   "outputs": [],
   "source": [
    "def load_data():\n",
    "    dataset = pd.read_csv('50_Startups.csv')\n",
    "    return dataset"
   ]
  },
  {
   "cell_type": "code",
   "execution_count": 3,
   "metadata": {},
   "outputs": [
    {
     "name": "stdout",
     "output_type": "stream",
     "text": [
      "   R&D Spend  Administration  Marketing Spend       State     Profit\n",
      "0  165349.20       136897.80        471784.10    New York  192261.83\n",
      "1  162597.70       151377.59        443898.53  California  191792.06\n",
      "2  153441.51       101145.55        407934.54     Florida  191050.39\n",
      "3  144372.41       118671.85        383199.62    New York  182901.99\n",
      "4  142107.34        91391.77        366168.42     Florida  166187.94\n",
      "R&D Spend          0\n",
      "Administration     0\n",
      "Marketing Spend    0\n",
      "State              0\n",
      "Profit             0\n",
      "dtype: int64\n"
     ]
    }
   ],
   "source": [
    "dataset = load_data()\n",
    "print(dataset.head())\n",
    "print(dataset.isnull().sum())"
   ]
  },
  {
   "cell_type": "code",
   "execution_count": 4,
   "metadata": {},
   "outputs": [
    {
     "data": {
      "text/plain": [
       "<matplotlib.axes._subplots.AxesSubplot at 0xa8cc404c>"
      ]
     },
     "execution_count": 4,
     "metadata": {},
     "output_type": "execute_result"
    },
    {
     "data": {
      "image/png": "[encoded data removed]",
      "text/plain": [
       "<Figure size 432x288 with 1 Axes>"
      ]
     },
     "metadata": {},
     "output_type": "display_data"
    }
   ],
   "source": [
    "import seaborn as sn\n",
    "sn.boxplot(dataset['R&D Spend'])"
   ]
  },
  {
   "cell_type": "code",
   "execution_count": 5,
   "metadata": {},
   "outputs": [
    {
     "data": {
      "text/plain": [
       "<matplotlib.axes._subplots.AxesSubplot at 0xa899646c>"
      ]
     },
     "execution_count": 5,
     "metadata": {},
     "output_type": "execute_result"
    },
    {
     "data": {
      "image/png": "[encoded data removed]",
      "text/plain": [
       "<Figure size 432x288 with 1 Axes>"
      ]
     },
     "metadata": {},
     "output_type": "display_data"
    }
   ],
   "source": [
    "sn.boxplot(dataset['Administration'])"
   ]
  },
  {
   "cell_type": "code",
   "execution_count": 6,
   "metadata": {},
   "outputs": [
    {
     "data": {
      "text/plain": [
       "<matplotlib.axes._subplots.AxesSubplot at 0xa88cb3ac>"
      ]
     },
     "execution_count": 6,
     "metadata": {},
     "output_type": "execute_result"
    },
    {
     "data": {
      "image/png": "[encoded data removed]",
      "text/plain": [
       "<Figure size 432x288 with 1 Axes>"
      ]
     },
     "metadata": {},
     "output_type": "display_data"
    }
   ],
   "source": [
    "sn.boxplot(dataset['Marketing Spend'])"
   ]
  },
  {
   "cell_type": "code",
   "execution_count": 7,
   "metadata": {},
   "outputs": [
    {
     "data": {
      "text/plain": [
       "<matplotlib.axes._subplots.AxesSubplot at 0xa894a6cc>"
      ]
     },
     "execution_count": 7,
     "metadata": {},
     "output_type": "execute_result"
    },
    {
     "data": {
      "image/png": "[encoded data removed]",
      "text/plain": [
       "<Figure size 432x288 with 1 Axes>"
      ]
     },
     "metadata": {},
     "output_type": "display_data"
    }
   ],
   "source": [
    "sn.boxplot(dataset['Profit'])"
   ]
  },
  {
   "cell_type": "code",
   "execution_count": 8,
   "metadata": {},
   "outputs": [
    {
     "name": "stdout",
     "output_type": "stream",
     "text": [
      "[2.01120333 1.99942997 1.98084225 1.77662724 1.35774012 1.12724963\n",
      " 1.10548055 1.09620987 1.00746967 0.94602247 0.85484675 0.80816756\n",
      " 0.74115484 0.55874952 0.51602637 0.44871967 0.3754357  0.33477114\n",
      " 0.307116   0.26977265 0.16193522 0.01753384 0.04161264 0.08216943\n",
      " 0.08672946 0.11549309 0.15736664 0.17554233 0.21879755 0.27588222\n",
      " 0.3026246  0.36412744 0.36552389 0.38178711 0.38344421 0.38929092\n",
      " 0.53393161 0.5529549  0.77149734 0.77709368 0.84641135 0.85746568\n",
      " 1.01536466 1.05896021 1.17320899 1.18008224 1.56692212 1.74062718\n",
      " 1.91321197 2.43931323]\n"
     ]
    }
   ],
   "source": [
    "from scipy import stats\n",
    "import numpy as np\n",
    "z = np.abs(stats.zscore(dataset['Profit']))\n",
    "print(z)"
   ]
  },
  {
   "cell_type": "code",
   "execution_count": 9,
   "metadata": {},
   "outputs": [
    {
     "name": "stdout",
     "output_type": "stream",
     "text": [
      "(array([], dtype=int32),)\n"
     ]
    }
   ],
   "source": [
    "threashhold = 3\n",
    "print(np.where(z>threashhold))"
   ]
  },
  {
   "cell_type": "code",
   "execution_count": 10,
   "metadata": {},
   "outputs": [
    {
     "name": "stdout",
     "output_type": "stream",
     "text": [
      "['California' 'Florida' 'New York']\n"
     ]
    }
   ],
   "source": [
    "State_label = dataset['State'].values\n",
    "print(np.unique(State_label))"
   ]
  },
  {
   "cell_type": "code",
   "execution_count": 11,
   "metadata": {},
   "outputs": [
    {
     "data": {
      "text/plain": [
       "array(['California', 'Florida', 'New York'], dtype=object)"
      ]
     },
     "execution_count": 11,
     "metadata": {},
     "output_type": "execute_result"
    }
   ],
   "source": [
    "unique_label = np.unique(State_label)\n",
    "unique_label"
   ]
  },
  {
   "cell_type": "code",
   "execution_count": 12,
   "metadata": {},
   "outputs": [
    {
     "name": "stdout",
     "output_type": "stream",
     "text": [
      "[0. 1. 0. 0. 0. 0. 1. 0. 0. 1. 0. 1. 0. 1. 0. 0. 1. 0. 0. 0. 1. 0. 0. 0.\n",
      " 0. 1. 0. 0. 0. 0. 0. 0. 1. 0. 1. 0. 0. 1. 0. 1. 1. 0. 1. 0. 1. 0. 0. 1.\n",
      " 0. 1.]\n",
      "50\n",
      "[0. 0. 1. 0. 1. 0. 0. 1. 0. 0. 1. 0. 1. 0. 1. 0. 0. 0. 1. 0. 0. 0. 1. 1.\n",
      " 0. 0. 1. 0. 1. 0. 1. 0. 0. 1. 0. 0. 1. 0. 0. 0. 0. 1. 0. 0. 0. 0. 1. 0.\n",
      " 0. 0.]\n",
      "0       New York\n",
      "1     California\n",
      "2        Florida\n",
      "3       New York\n",
      "4        Florida\n",
      "5       New York\n",
      "6     California\n",
      "7        Florida\n",
      "8       New York\n",
      "9     California\n",
      "10       Florida\n",
      "11    California\n",
      "12       Florida\n",
      "13    California\n",
      "14       Florida\n",
      "15      New York\n",
      "16    California\n",
      "17      New York\n",
      "18       Florida\n",
      "19      New York\n",
      "20    California\n",
      "21      New York\n",
      "22       Florida\n",
      "23       Florida\n",
      "24      New York\n",
      "25    California\n",
      "26       Florida\n",
      "27      New York\n",
      "28       Florida\n",
      "29      New York\n",
      "30       Florida\n",
      "31      New York\n",
      "32    California\n",
      "33       Florida\n",
      "34    California\n",
      "35      New York\n",
      "36       Florida\n",
      "37    California\n",
      "38      New York\n",
      "39    California\n",
      "40    California\n",
      "41       Florida\n",
      "42    California\n",
      "43      New York\n",
      "44    California\n",
      "45      New York\n",
      "46       Florida\n",
      "47    California\n",
      "48      New York\n",
      "49    California\n",
      "Name: State, dtype: object\n"
     ]
    }
   ],
   "source": [
    "California = np.array([])\n",
    "New_York = np.array([])\n",
    "a = 0\n",
    "b = 1\n",
    "Florida = np.array([])\n",
    "for i in dataset['State']:\n",
    "    if(i in unique_label[0]):\n",
    "        California = np.append(California, b)\n",
    "        New_York = np.append(New_York, a)\n",
    "        Florida = np.append(Florida, a)\n",
    "    elif(i in unique_label[1]):\n",
    "        California = np.append(California, a)\n",
    "        New_York = np.append(New_York, a)\n",
    "        Florida = np.append(Florida, b)\n",
    "    else:\n",
    "        California = np.append(California, a)\n",
    "        New_York = np.append(New_York, b)\n",
    "        Florida = np.append(Florida, a)\n",
    "print(California)\n",
    "print(len(California))\n",
    "print(Florida)\n",
    "print(dataset['State'])"
   ]
  },
  {
   "cell_type": "code",
   "execution_count": 13,
   "metadata": {},
   "outputs": [
    {
     "name": "stdout",
     "output_type": "stream",
     "text": [
      "   R&D Spend  Administration  Marketing Spend     Profit  California  New_York\n",
      "0  165349.20       136897.80        471784.10  192261.83         0.0       1.0\n",
      "1  162597.70       151377.59        443898.53  191792.06         1.0       0.0\n",
      "2  153441.51       101145.55        407934.54  191050.39         0.0       0.0\n",
      "3  144372.41       118671.85        383199.62  182901.99         0.0       1.0\n",
      "4  142107.34        91391.77        366168.42  166187.94         0.0       0.0\n"
     ]
    }
   ],
   "source": [
    "dataset['California'] = California\n",
    "dataset['New_York'] = New_York\n",
    "dataset = dataset.drop(columns = 'State')\n",
    "print(dataset.head())"
   ]
  },
  {
   "cell_type": "code",
   "execution_count": 14,
   "metadata": {},
   "outputs": [
    {
     "name": "stdout",
     "output_type": "stream",
     "text": [
      "[192261.83 191792.06 191050.39 182901.99 166187.94 156991.12 156122.51\n",
      " 155752.6  152211.77 149759.96 146121.95 144259.4  141585.52 134307.35\n",
      " 132602.65 129917.04 126992.93 125370.37 124266.9  122776.86 118474.03\n",
      " 111313.02 110352.25 108733.99 108552.04 107404.34 105733.54 105008.31\n",
      " 103282.38 101004.64  99937.59  97483.56  97427.84  96778.92  96712.8\n",
      "  96479.51  90708.19  89949.14  81229.06  81005.76  78239.91  77798.83\n",
      "  71498.49  69758.98  65200.33  64926.08  49490.75  42559.73  35673.41\n",
      "  14681.4 ]\n"
     ]
    }
   ],
   "source": [
    "dataset = dataset[['R&D Spend', 'Administration', 'Marketing Spend', 'California', 'New_York', 'Profit']]\n",
    "X = dataset.iloc[:,:-1].values\n",
    "Y = dataset.iloc[:,5].values\n",
    "#print(X)\n",
    "print(Y)"
   ]
  },
  {
   "cell_type": "code",
   "execution_count": 15,
   "metadata": {},
   "outputs": [
    {
     "data": {
      "text/plain": [
       "(50, 6)"
      ]
     },
     "execution_count": 15,
     "metadata": {},
     "output_type": "execute_result"
    }
   ],
   "source": [
    "v = np.ones((50,1))\n",
    "v.shape\n",
    "X = np.c_[v, X]\n",
    "X.shape"
   ]
  },
  {
   "cell_type": "code",
   "execution_count": 16,
   "metadata": {},
   "outputs": [
    {
     "data": {
      "text/plain": [
       "(6, 50)"
      ]
     },
     "execution_count": 16,
     "metadata": {},
     "output_type": "execute_result"
    }
   ],
   "source": [
    "#Converting X to X transpose matrix\n",
    "XT = X.T\n",
    "XT.shape"
   ]
  },
  {
   "cell_type": "code",
   "execution_count": 17,
   "metadata": {},
   "outputs": [
    {
     "name": "stdout",
     "output_type": "stream",
     "text": [
      "(6, 6)\n",
      "[[5.00000000e+01 3.68608078e+06 6.06723198e+06 1.05512549e+07\n",
      "  1.70000000e+01 1.70000000e+01]\n",
      " [3.68608078e+06 3.74987671e+11 4.62533664e+11 9.77064829e+11\n",
      "  1.09918046e+06 1.29531606e+06]\n",
      " [6.06723198e+06 4.62533664e+11 7.74690944e+11 1.27493994e+12\n",
      "  2.05269062e+06 2.06623900e+06]\n",
      " [1.05512549e+07 9.77064829e+11 1.27493994e+12 2.95937068e+12\n",
      "  3.10319580e+06 3.49088227e+06]\n",
      " [1.70000000e+01 1.09918046e+06 2.05269062e+06 3.10319580e+06\n",
      "  1.70000000e+01 0.00000000e+00]\n",
      " [1.70000000e+01 1.29531606e+06 2.06623900e+06 3.49088227e+06\n",
      "  0.00000000e+00 1.70000000e+01]]\n"
     ]
    }
   ],
   "source": [
    "#X transpose * X\n",
    "XtX = XT.dot(X)\n",
    "print(XtX.shape)\n",
    "print(XtX)"
   ]
  },
  {
   "cell_type": "code",
   "execution_count": 18,
   "metadata": {},
   "outputs": [
    {
     "data": {
      "text/plain": [
       "array([[ 5.90223649e-01,  9.89481677e-07, -3.65603691e-06,\n",
       "        -6.56658047e-07, -9.28805760e-02, -8.64077386e-02],\n",
       "       [ 9.89481677e-07,  2.41710393e-11, -1.05227523e-11,\n",
       "        -6.70911078e-12, -5.70519609e-08, -1.74534524e-07],\n",
       "       [-3.65603691e-06, -1.05227523e-11,  3.06192680e-11,\n",
       "         3.14163864e-12,  6.57662968e-08,  9.11235942e-08],\n",
       "       [-6.56658047e-07, -6.70911078e-12,  3.14163864e-12,\n",
       "         3.29807063e-12,  1.09078775e-07,  1.08767833e-07],\n",
       "       [-9.28805760e-02, -5.70519609e-08,  6.57662968e-08,\n",
       "         1.09078775e-07,  1.27540561e-01,  6.68352979e-02],\n",
       "       [-8.64077386e-02, -1.74534524e-07,  9.11235942e-08,\n",
       "         1.08767833e-07,  6.68352979e-02,  1.25119418e-01]])"
      ]
     },
     "execution_count": 18,
     "metadata": {},
     "output_type": "execute_result"
    }
   ],
   "source": [
    "#Finding inverse of X transpose X \n",
    "invXtX = np.linalg.inv(XtX)\n",
    "invXtX"
   ]
  },
  {
   "cell_type": "code",
   "execution_count": 19,
   "metadata": {},
   "outputs": [
    {
     "data": {
      "text/plain": [
       "(6, 1)"
      ]
     },
     "execution_count": 19,
     "metadata": {},
     "output_type": "execute_result"
    }
   ],
   "source": [
    "Y = Y.reshape(50,1)\n",
    "XtY = XT.dot(Y)\n",
    "XtY.shape"
   ]
  },
  {
   "cell_type": "code",
   "execution_count": 20,
   "metadata": {},
   "outputs": [
    {
     "name": "stdout",
     "output_type": "stream",
     "text": [
      "6\n",
      "[[ 5.03241326e+04]\n",
      " [ 8.06023114e-01]\n",
      " [-2.70043196e-02]\n",
      " [ 2.69798610e-02]\n",
      " [-1.98788793e+02]\n",
      " [-2.40675812e+02]]\n"
     ]
    }
   ],
   "source": [
    "Theta = invXtX.dot(XtY)\n",
    "print(Theta.size)\n",
    "print(Theta)"
   ]
  },
  {
   "cell_type": "code",
   "execution_count": 21,
   "metadata": {},
   "outputs": [
    {
     "name": "stdout",
     "output_type": "stream",
     "text": [
      "[50324.13262453]\n"
     ]
    }
   ],
   "source": [
    "theta0 = Theta[0]\n",
    "theta1 = Theta[1]\n",
    "theta2 = Theta[2]\n",
    "theta3 = Theta[3]\n",
    "theta4 = Theta[4]\n",
    "theta5 = Theta[5]\n",
    "print(theta0)"
   ]
  },
  {
   "cell_type": "code",
   "execution_count": 22,
   "metadata": {},
   "outputs": [
    {
     "name": "stdout",
     "output_type": "stream",
     "text": [
      "(6, 1)\n"
     ]
    }
   ],
   "source": [
    "X.shape\n",
    "print(Theta.shape)"
   ]
  },
  {
   "cell_type": "code",
   "execution_count": 23,
   "metadata": {},
   "outputs": [
    {
     "data": {
      "text/plain": [
       "(50, 1)"
      ]
     },
     "execution_count": 23,
     "metadata": {},
     "output_type": "execute_result"
    }
   ],
   "source": [
    "#for i in range(len(X)):\n",
    "y_hat = np.array([])\n",
    "y_hat1 = 0\n",
    "for i  in range(X.shape[0]):\n",
    "    for j in range(X.shape[1]):\n",
    "        #print(X[i][j])\n",
    "        y_hat1 = y_hat1 + (Theta[j] * X[i][j])\n",
    "    y_hat=np.append(y_hat,y_hat1, axis=0)\n",
    "    y_hat1 = 0\n",
    "y_hat = y_hat.reshape(50,1)\n",
    "y_hat.shape"
   ]
  },
  {
   "cell_type": "code",
   "execution_count": 24,
   "metadata": {},
   "outputs": [
    {
     "name": "stdout",
     "output_type": "stream",
     "text": [
      "RSquared = [0.95075248]\n"
     ]
    }
   ],
   "source": [
    "#R squared\n",
    "numer = 0.0\n",
    "denom = 0.0\n",
    "y_mean1 = 0\n",
    "for i in range(len(Y)):\n",
    "    y_mean1 = y_mean1 + Y[i]\n",
    "y_mean1 = y_mean1/len(Y)\n",
    "y_mean = np.mean(Y)\n",
    "#print(y_mean1)\n",
    "#print(y_mean)\n",
    "for i in range(len(Y)):\n",
    "    numer = numer + ((y_hat[i] - y_mean1)**2 )\n",
    "    denom = denom + ((Y[i] - y_mean1)**2)\n",
    "Rsquared = numer / denom\n",
    "print(\"RSquared =\",Rsquared)"
   ]
  },
  {
   "cell_type": "code",
   "execution_count": 25,
   "metadata": {},
   "outputs": [
    {
     "data": {
      "text/html": [
       "<div>\n",
       "<style scoped>\n",
       "    .dataframe tbody tr th:only-of-type {\n",
       "        vertical-align: middle;\n",
       "    }\n",
       "\n",
       "    .dataframe tbody tr th {\n",
       "        vertical-align: top;\n",
       "    }\n",
       "\n",
       "    .dataframe thead th {\n",
       "        text-align: right;\n",
       "    }\n",
       "</style>\n",
       "<table border=\"1\" class=\"dataframe\">\n",
       "  <thead>\n",
       "    <tr style=\"text-align: right;\">\n",
       "      <th></th>\n",
       "      <th>R&amp;D Spend</th>\n",
       "      <th>Administration</th>\n",
       "      <th>Marketing Spend</th>\n",
       "      <th>California</th>\n",
       "      <th>New_York</th>\n",
       "      <th>Profit</th>\n",
       "    </tr>\n",
       "  </thead>\n",
       "  <tbody>\n",
       "    <tr>\n",
       "      <th>0</th>\n",
       "      <td>165349.20</td>\n",
       "      <td>136897.80</td>\n",
       "      <td>471784.10</td>\n",
       "      <td>0.0</td>\n",
       "      <td>1.0</td>\n",
       "      <td>192261.83</td>\n",
       "    </tr>\n",
       "    <tr>\n",
       "      <th>1</th>\n",
       "      <td>162597.70</td>\n",
       "      <td>151377.59</td>\n",
       "      <td>443898.53</td>\n",
       "      <td>1.0</td>\n",
       "      <td>0.0</td>\n",
       "      <td>191792.06</td>\n",
       "    </tr>\n",
       "    <tr>\n",
       "      <th>2</th>\n",
       "      <td>153441.51</td>\n",
       "      <td>101145.55</td>\n",
       "      <td>407934.54</td>\n",
       "      <td>0.0</td>\n",
       "      <td>0.0</td>\n",
       "      <td>191050.39</td>\n",
       "    </tr>\n",
       "    <tr>\n",
       "      <th>3</th>\n",
       "      <td>144372.41</td>\n",
       "      <td>118671.85</td>\n",
       "      <td>383199.62</td>\n",
       "      <td>0.0</td>\n",
       "      <td>1.0</td>\n",
       "      <td>182901.99</td>\n",
       "    </tr>\n",
       "    <tr>\n",
       "      <th>4</th>\n",
       "      <td>142107.34</td>\n",
       "      <td>91391.77</td>\n",
       "      <td>366168.42</td>\n",
       "      <td>0.0</td>\n",
       "      <td>0.0</td>\n",
       "      <td>166187.94</td>\n",
       "    </tr>\n",
       "  </tbody>\n",
       "</table>\n",
       "</div>"
      ],
      "text/plain": [
       "   R&D Spend  Administration  Marketing Spend  California  New_York     Profit\n",
       "0  165349.20       136897.80        471784.10         0.0       1.0  192261.83\n",
       "1  162597.70       151377.59        443898.53         1.0       0.0  191792.06\n",
       "2  153441.51       101145.55        407934.54         0.0       0.0  191050.39\n",
       "3  144372.41       118671.85        383199.62         0.0       1.0  182901.99\n",
       "4  142107.34        91391.77        366168.42         0.0       0.0  166187.94"
      ]
     },
     "execution_count": 25,
     "metadata": {},
     "output_type": "execute_result"
    }
   ],
   "source": [
    "dataset.head()"
   ]
  },
  {
   "cell_type": "code",
   "execution_count": 26,
   "metadata": {},
   "outputs": [],
   "source": [
    "#dataset.to_csv('/home/hduser/datasets/startup.csv')"
   ]
  }
 ],
 "metadata": {
  "kernelspec": {
   "display_name": "Python 3",
   "language": "python",
   "name": "python3"
  },
  "language_info": {
   "codemirror_mode": {
    "name": "ipython",
    "version": 3
   },
   "file_extension": ".py",
   "mimetype": "text/x-python",
   "name": "python",
   "nbconvert_exporter": "python",
   "pygments_lexer": "ipython3",
   "version": "3.6.6"
  }
 },
 "nbformat": 4,
 "nbformat_minor": 2
}
